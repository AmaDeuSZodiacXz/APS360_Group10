{
 "cells": [
  {
   "cell_type": "code",
   "execution_count": 1,
   "id": "d1614492-7000-4f27-aca0-9ddd171cbe0e",
   "metadata": {},
   "outputs": [
    {
     "name": "stdout",
     "output_type": "stream",
     "text": [
      "Using device: cuda\n",
      "Starting Epoch 1/50...\n"
     ]
    },
    {
     "name": "stderr",
     "output_type": "stream",
     "text": [
      "Epoch 1/50: 100%|██████████████████████████████████| 165/165 [03:00<00:00,  1.09s/batch, D Loss=2.9542, G Loss=18.4707]\n"
     ]
    },
    {
     "name": "stdout",
     "output_type": "stream",
     "text": [
      "Epoch [1/50] Completed | Avg D Loss: 1.1551 | Avg G Loss: 3.9732\n",
      "Starting Epoch 2/50...\n"
     ]
    },
    {
     "name": "stderr",
     "output_type": "stream",
     "text": [
      "Epoch 2/50: 100%|██████████████████████████████████| 165/165 [02:53<00:00,  1.05s/batch, D Loss=0.4617, G Loss=11.8786]\n"
     ]
    },
    {
     "name": "stdout",
     "output_type": "stream",
     "text": [
      "Epoch [2/50] Completed | Avg D Loss: 0.5743 | Avg G Loss: 5.4945\n",
      "Starting Epoch 3/50...\n"
     ]
    },
    {
     "name": "stderr",
     "output_type": "stream",
     "text": [
      "Epoch 3/50: 100%|███████████████████████████████████| 165/165 [02:51<00:00,  1.04s/batch, D Loss=2.4890, G Loss=6.8549]\n"
     ]
    },
    {
     "name": "stdout",
     "output_type": "stream",
     "text": [
      "Epoch [3/50] Completed | Avg D Loss: 0.6561 | Avg G Loss: 4.5145\n",
      "Starting Epoch 4/50...\n"
     ]
    },
    {
     "name": "stderr",
     "output_type": "stream",
     "text": [
      "Epoch 4/50: 100%|███████████████████████████████████| 165/165 [02:49<00:00,  1.03s/batch, D Loss=0.1577, G Loss=7.6749]\n"
     ]
    },
    {
     "name": "stdout",
     "output_type": "stream",
     "text": [
      "Epoch [4/50] Completed | Avg D Loss: 0.7304 | Avg G Loss: 4.9409\n",
      "Starting Epoch 5/50...\n"
     ]
    },
    {
     "name": "stderr",
     "output_type": "stream",
     "text": [
      "Epoch 5/50: 100%|███████████████████████████████████| 165/165 [03:01<00:00,  1.10s/batch, D Loss=0.5928, G Loss=2.2361]\n"
     ]
    },
    {
     "name": "stdout",
     "output_type": "stream",
     "text": [
      "Epoch [5/50] Completed | Avg D Loss: 0.7601 | Avg G Loss: 5.4290\n",
      "Starting Epoch 6/50...\n"
     ]
    },
    {
     "name": "stderr",
     "output_type": "stream",
     "text": [
      "Epoch 6/50: 100%|███████████████████████████████████| 165/165 [03:01<00:00,  1.10s/batch, D Loss=0.5610, G Loss=3.2919]\n"
     ]
    },
    {
     "name": "stdout",
     "output_type": "stream",
     "text": [
      "Epoch [6/50] Completed | Avg D Loss: 0.7581 | Avg G Loss: 5.7052\n",
      "Starting Epoch 7/50...\n"
     ]
    },
    {
     "name": "stderr",
     "output_type": "stream",
     "text": [
      "Epoch 7/50: 100%|███████████████████████████████████| 165/165 [03:03<00:00,  1.11s/batch, D Loss=0.0329, G Loss=8.9970]\n"
     ]
    },
    {
     "name": "stdout",
     "output_type": "stream",
     "text": [
      "Epoch [7/50] Completed | Avg D Loss: 0.7209 | Avg G Loss: 6.2343\n",
      "Starting Epoch 8/50...\n"
     ]
    },
    {
     "name": "stderr",
     "output_type": "stream",
     "text": [
      "Epoch 8/50: 100%|███████████████████████████████████| 165/165 [03:00<00:00,  1.10s/batch, D Loss=0.2994, G Loss=2.3932]\n"
     ]
    },
    {
     "name": "stdout",
     "output_type": "stream",
     "text": [
      "Epoch [8/50] Completed | Avg D Loss: 0.6655 | Avg G Loss: 5.5288\n",
      "Starting Epoch 9/50...\n"
     ]
    },
    {
     "name": "stderr",
     "output_type": "stream",
     "text": [
      "Epoch 9/50: 100%|███████████████████████████████████| 165/165 [03:04<00:00,  1.12s/batch, D Loss=0.5282, G Loss=9.8676]\n"
     ]
    },
    {
     "name": "stdout",
     "output_type": "stream",
     "text": [
      "Epoch [9/50] Completed | Avg D Loss: 0.6357 | Avg G Loss: 5.4357\n",
      "Starting Epoch 10/50...\n"
     ]
    },
    {
     "name": "stderr",
     "output_type": "stream",
     "text": [
      "Epoch 10/50: 100%|██████████████████████████████████| 165/165 [03:02<00:00,  1.11s/batch, D Loss=2.0920, G Loss=1.4929]\n"
     ]
    },
    {
     "name": "stdout",
     "output_type": "stream",
     "text": [
      "Epoch [10/50] Completed | Avg D Loss: 0.8115 | Avg G Loss: 4.3434\n",
      "Starting Epoch 11/50...\n"
     ]
    },
    {
     "name": "stderr",
     "output_type": "stream",
     "text": [
      "Epoch 11/50: 100%|██████████████████████████████████| 165/165 [02:59<00:00,  1.08s/batch, D Loss=1.6479, G Loss=4.5391]\n"
     ]
    },
    {
     "name": "stdout",
     "output_type": "stream",
     "text": [
      "Epoch [11/50] Completed | Avg D Loss: 0.8019 | Avg G Loss: 3.9683\n",
      "Starting Epoch 12/50...\n"
     ]
    },
    {
     "name": "stderr",
     "output_type": "stream",
     "text": [
      "Epoch 12/50: 100%|██████████████████████████████████| 165/165 [02:57<00:00,  1.08s/batch, D Loss=0.1713, G Loss=4.7595]\n"
     ]
    },
    {
     "name": "stdout",
     "output_type": "stream",
     "text": [
      "Epoch [12/50] Completed | Avg D Loss: 0.7389 | Avg G Loss: 4.2593\n",
      "Starting Epoch 13/50...\n"
     ]
    },
    {
     "name": "stderr",
     "output_type": "stream",
     "text": [
      "Epoch 13/50: 100%|██████████████████████████████████| 165/165 [03:00<00:00,  1.09s/batch, D Loss=1.5813, G Loss=3.5661]\n"
     ]
    },
    {
     "name": "stdout",
     "output_type": "stream",
     "text": [
      "Epoch [13/50] Completed | Avg D Loss: 0.7541 | Avg G Loss: 4.3782\n",
      "Starting Epoch 14/50...\n"
     ]
    },
    {
     "name": "stderr",
     "output_type": "stream",
     "text": [
      "Epoch 14/50: 100%|██████████████████████████████████| 165/165 [03:00<00:00,  1.09s/batch, D Loss=0.7726, G Loss=2.5911]\n"
     ]
    },
    {
     "name": "stdout",
     "output_type": "stream",
     "text": [
      "Epoch [14/50] Completed | Avg D Loss: 0.7060 | Avg G Loss: 4.7423\n",
      "Starting Epoch 15/50...\n"
     ]
    },
    {
     "name": "stderr",
     "output_type": "stream",
     "text": [
      "Epoch 15/50: 100%|██████████████████████████████████| 165/165 [02:59<00:00,  1.09s/batch, D Loss=1.2439, G Loss=0.0033]\n"
     ]
    },
    {
     "name": "stdout",
     "output_type": "stream",
     "text": [
      "Epoch [15/50] Completed | Avg D Loss: 0.7769 | Avg G Loss: 4.0274\n",
      "Starting Epoch 16/50...\n"
     ]
    },
    {
     "name": "stderr",
     "output_type": "stream",
     "text": [
      "Epoch 16/50: 100%|██████████████████████████████████| 165/165 [02:58<00:00,  1.08s/batch, D Loss=0.9338, G Loss=7.2542]\n"
     ]
    },
    {
     "name": "stdout",
     "output_type": "stream",
     "text": [
      "Epoch [16/50] Completed | Avg D Loss: 0.8125 | Avg G Loss: 3.9208\n",
      "Starting Epoch 17/50...\n"
     ]
    },
    {
     "name": "stderr",
     "output_type": "stream",
     "text": [
      "Epoch 17/50: 100%|██████████████████████████████████| 165/165 [02:57<00:00,  1.07s/batch, D Loss=0.8561, G Loss=1.4114]\n"
     ]
    },
    {
     "name": "stdout",
     "output_type": "stream",
     "text": [
      "Epoch [17/50] Completed | Avg D Loss: 0.8556 | Avg G Loss: 3.7667\n",
      "Starting Epoch 18/50...\n"
     ]
    },
    {
     "name": "stderr",
     "output_type": "stream",
     "text": [
      "Epoch 18/50: 100%|██████████████████████████████████| 165/165 [02:59<00:00,  1.09s/batch, D Loss=2.6230, G Loss=0.2068]\n"
     ]
    },
    {
     "name": "stdout",
     "output_type": "stream",
     "text": [
      "Epoch [18/50] Completed | Avg D Loss: 0.9079 | Avg G Loss: 3.5266\n",
      "Starting Epoch 19/50...\n"
     ]
    },
    {
     "name": "stderr",
     "output_type": "stream",
     "text": [
      "Epoch 19/50: 100%|██████████████████████████████████| 165/165 [03:01<00:00,  1.10s/batch, D Loss=0.8483, G Loss=8.8355]\n"
     ]
    },
    {
     "name": "stdout",
     "output_type": "stream",
     "text": [
      "Epoch [19/50] Completed | Avg D Loss: 0.9670 | Avg G Loss: 3.4040\n",
      "Starting Epoch 20/50...\n"
     ]
    },
    {
     "name": "stderr",
     "output_type": "stream",
     "text": [
      "Epoch 20/50: 100%|██████████████████████████████████| 165/165 [03:00<00:00,  1.09s/batch, D Loss=1.3251, G Loss=0.3425]\n"
     ]
    },
    {
     "name": "stdout",
     "output_type": "stream",
     "text": [
      "Epoch [20/50] Completed | Avg D Loss: 0.8921 | Avg G Loss: 3.3376\n",
      "Starting Epoch 21/50...\n"
     ]
    },
    {
     "name": "stderr",
     "output_type": "stream",
     "text": [
      "Epoch 21/50: 100%|██████████████████████████████████| 165/165 [02:58<00:00,  1.08s/batch, D Loss=0.4214, G Loss=1.3233]\n"
     ]
    },
    {
     "name": "stdout",
     "output_type": "stream",
     "text": [
      "Epoch [21/50] Completed | Avg D Loss: 0.8544 | Avg G Loss: 3.5896\n",
      "Starting Epoch 22/50...\n"
     ]
    },
    {
     "name": "stderr",
     "output_type": "stream",
     "text": [
      "Epoch 22/50: 100%|██████████████████████████████████| 165/165 [02:58<00:00,  1.08s/batch, D Loss=0.8330, G Loss=3.5975]\n"
     ]
    },
    {
     "name": "stdout",
     "output_type": "stream",
     "text": [
      "Epoch [22/50] Completed | Avg D Loss: 0.8211 | Avg G Loss: 3.6425\n",
      "Starting Epoch 23/50...\n"
     ]
    },
    {
     "name": "stderr",
     "output_type": "stream",
     "text": [
      "Epoch 23/50: 100%|██████████████████████████████████| 165/165 [02:59<00:00,  1.09s/batch, D Loss=1.6946, G Loss=2.1867]\n"
     ]
    },
    {
     "name": "stdout",
     "output_type": "stream",
     "text": [
      "Epoch [23/50] Completed | Avg D Loss: 0.8609 | Avg G Loss: 3.6412\n",
      "Starting Epoch 24/50...\n"
     ]
    },
    {
     "name": "stderr",
     "output_type": "stream",
     "text": [
      "Epoch 24/50: 100%|██████████████████████████████████| 165/165 [03:00<00:00,  1.09s/batch, D Loss=0.6485, G Loss=0.5956]\n"
     ]
    },
    {
     "name": "stdout",
     "output_type": "stream",
     "text": [
      "Epoch [24/50] Completed | Avg D Loss: 0.8602 | Avg G Loss: 3.4926\n",
      "Starting Epoch 25/50...\n"
     ]
    },
    {
     "name": "stderr",
     "output_type": "stream",
     "text": [
      "Epoch 25/50: 100%|██████████████████████████████████| 165/165 [02:59<00:00,  1.09s/batch, D Loss=1.9398, G Loss=0.2336]\n"
     ]
    },
    {
     "name": "stdout",
     "output_type": "stream",
     "text": [
      "Epoch [25/50] Completed | Avg D Loss: 0.8753 | Avg G Loss: 3.4213\n",
      "Starting Epoch 26/50...\n"
     ]
    },
    {
     "name": "stderr",
     "output_type": "stream",
     "text": [
      "Epoch 26/50: 100%|██████████████████████████████████| 165/165 [02:58<00:00,  1.08s/batch, D Loss=0.5659, G Loss=3.5425]\n"
     ]
    },
    {
     "name": "stdout",
     "output_type": "stream",
     "text": [
      "Epoch [26/50] Completed | Avg D Loss: 0.8527 | Avg G Loss: 3.6116\n",
      "Starting Epoch 27/50...\n"
     ]
    },
    {
     "name": "stderr",
     "output_type": "stream",
     "text": [
      "Epoch 27/50: 100%|██████████████████████████████████| 165/165 [03:00<00:00,  1.10s/batch, D Loss=0.6058, G Loss=2.1245]\n"
     ]
    },
    {
     "name": "stdout",
     "output_type": "stream",
     "text": [
      "Epoch [27/50] Completed | Avg D Loss: 0.8317 | Avg G Loss: 3.5983\n",
      "Starting Epoch 28/50...\n"
     ]
    },
    {
     "name": "stderr",
     "output_type": "stream",
     "text": [
      "Epoch 28/50: 100%|██████████████████████████████████| 165/165 [02:58<00:00,  1.08s/batch, D Loss=0.1813, G Loss=7.0333]\n"
     ]
    },
    {
     "name": "stdout",
     "output_type": "stream",
     "text": [
      "Epoch [28/50] Completed | Avg D Loss: 0.7422 | Avg G Loss: 3.6948\n",
      "Starting Epoch 29/50...\n"
     ]
    },
    {
     "name": "stderr",
     "output_type": "stream",
     "text": [
      "Epoch 29/50: 100%|██████████████████████████████████| 165/165 [03:00<00:00,  1.09s/batch, D Loss=0.5305, G Loss=3.7340]\n"
     ]
    },
    {
     "name": "stdout",
     "output_type": "stream",
     "text": [
      "Epoch [29/50] Completed | Avg D Loss: 0.7891 | Avg G Loss: 3.7478\n",
      "Starting Epoch 30/50...\n"
     ]
    },
    {
     "name": "stderr",
     "output_type": "stream",
     "text": [
      "Epoch 30/50: 100%|██████████████████████████████████| 165/165 [03:01<00:00,  1.10s/batch, D Loss=0.5906, G Loss=1.2864]\n"
     ]
    },
    {
     "name": "stdout",
     "output_type": "stream",
     "text": [
      "Epoch [30/50] Completed | Avg D Loss: 0.7107 | Avg G Loss: 3.7258\n",
      "Starting Epoch 31/50...\n"
     ]
    },
    {
     "name": "stderr",
     "output_type": "stream",
     "text": [
      "Epoch 31/50: 100%|██████████████████████████████████| 165/165 [02:58<00:00,  1.08s/batch, D Loss=1.1062, G Loss=3.2496]\n"
     ]
    },
    {
     "name": "stdout",
     "output_type": "stream",
     "text": [
      "Epoch [31/50] Completed | Avg D Loss: 0.7823 | Avg G Loss: 3.9561\n",
      "Starting Epoch 32/50...\n"
     ]
    },
    {
     "name": "stderr",
     "output_type": "stream",
     "text": [
      "Epoch 32/50: 100%|██████████████████████████████████| 165/165 [02:59<00:00,  1.09s/batch, D Loss=0.7509, G Loss=0.1343]\n"
     ]
    },
    {
     "name": "stdout",
     "output_type": "stream",
     "text": [
      "Epoch [32/50] Completed | Avg D Loss: 0.7618 | Avg G Loss: 3.8377\n",
      "Starting Epoch 33/50...\n"
     ]
    },
    {
     "name": "stderr",
     "output_type": "stream",
     "text": [
      "Epoch 33/50: 100%|██████████████████████████████████| 165/165 [02:59<00:00,  1.09s/batch, D Loss=0.6797, G Loss=2.6321]\n"
     ]
    },
    {
     "name": "stdout",
     "output_type": "stream",
     "text": [
      "Epoch [33/50] Completed | Avg D Loss: 0.7063 | Avg G Loss: 3.9674\n",
      "Starting Epoch 34/50...\n"
     ]
    },
    {
     "name": "stderr",
     "output_type": "stream",
     "text": [
      "Epoch 34/50: 100%|██████████████████████████████████| 165/165 [02:58<00:00,  1.08s/batch, D Loss=0.6934, G Loss=3.2540]\n"
     ]
    },
    {
     "name": "stdout",
     "output_type": "stream",
     "text": [
      "Epoch [34/50] Completed | Avg D Loss: 0.6635 | Avg G Loss: 4.0553\n",
      "Starting Epoch 35/50...\n"
     ]
    },
    {
     "name": "stderr",
     "output_type": "stream",
     "text": [
      "Epoch 35/50: 100%|██████████████████████████████████| 165/165 [02:59<00:00,  1.09s/batch, D Loss=0.5896, G Loss=3.5011]\n"
     ]
    },
    {
     "name": "stdout",
     "output_type": "stream",
     "text": [
      "Epoch [35/50] Completed | Avg D Loss: 0.6358 | Avg G Loss: 4.0446\n",
      "Starting Epoch 36/50...\n"
     ]
    },
    {
     "name": "stderr",
     "output_type": "stream",
     "text": [
      "Epoch 36/50: 100%|██████████████████████████████████| 165/165 [03:01<00:00,  1.10s/batch, D Loss=1.1518, G Loss=2.9018]\n"
     ]
    },
    {
     "name": "stdout",
     "output_type": "stream",
     "text": [
      "Epoch [36/50] Completed | Avg D Loss: 0.6969 | Avg G Loss: 4.1735\n",
      "Starting Epoch 37/50...\n"
     ]
    },
    {
     "name": "stderr",
     "output_type": "stream",
     "text": [
      "Epoch 37/50: 100%|██████████████████████████████████| 165/165 [03:01<00:00,  1.10s/batch, D Loss=1.6375, G Loss=0.6899]\n"
     ]
    },
    {
     "name": "stdout",
     "output_type": "stream",
     "text": [
      "Epoch [37/50] Completed | Avg D Loss: 0.6241 | Avg G Loss: 4.3037\n",
      "Starting Epoch 38/50...\n"
     ]
    },
    {
     "name": "stderr",
     "output_type": "stream",
     "text": [
      "Epoch 38/50: 100%|██████████████████████████████████| 165/165 [03:02<00:00,  1.11s/batch, D Loss=0.2328, G Loss=1.0312]\n"
     ]
    },
    {
     "name": "stdout",
     "output_type": "stream",
     "text": [
      "Epoch [38/50] Completed | Avg D Loss: 0.6673 | Avg G Loss: 4.3346\n",
      "Starting Epoch 39/50...\n"
     ]
    },
    {
     "name": "stderr",
     "output_type": "stream",
     "text": [
      "Epoch 39/50: 100%|█████████████████████████████████| 165/165 [03:01<00:00,  1.10s/batch, D Loss=2.8815, G Loss=24.0275]\n"
     ]
    },
    {
     "name": "stdout",
     "output_type": "stream",
     "text": [
      "Epoch [39/50] Completed | Avg D Loss: 0.6659 | Avg G Loss: 4.3009\n",
      "Starting Epoch 40/50...\n"
     ]
    },
    {
     "name": "stderr",
     "output_type": "stream",
     "text": [
      "Epoch 40/50: 100%|██████████████████████████████████| 165/165 [03:00<00:00,  1.09s/batch, D Loss=0.4025, G Loss=5.0167]\n"
     ]
    },
    {
     "name": "stdout",
     "output_type": "stream",
     "text": [
      "Epoch [40/50] Completed | Avg D Loss: 0.6719 | Avg G Loss: 4.0688\n",
      "Starting Epoch 41/50...\n"
     ]
    },
    {
     "name": "stderr",
     "output_type": "stream",
     "text": [
      "Epoch 41/50: 100%|██████████████████████████████████| 165/165 [03:02<00:00,  1.11s/batch, D Loss=0.4859, G Loss=1.2284]\n"
     ]
    },
    {
     "name": "stdout",
     "output_type": "stream",
     "text": [
      "Epoch [41/50] Completed | Avg D Loss: 0.6754 | Avg G Loss: 4.1577\n",
      "Starting Epoch 42/50...\n"
     ]
    },
    {
     "name": "stderr",
     "output_type": "stream",
     "text": [
      "Epoch 42/50: 100%|██████████████████████████████████| 165/165 [03:02<00:00,  1.10s/batch, D Loss=2.6529, G Loss=0.0484]\n"
     ]
    },
    {
     "name": "stdout",
     "output_type": "stream",
     "text": [
      "Epoch [42/50] Completed | Avg D Loss: 0.5902 | Avg G Loss: 4.2010\n",
      "Starting Epoch 43/50...\n"
     ]
    },
    {
     "name": "stderr",
     "output_type": "stream",
     "text": [
      "Epoch 43/50: 100%|██████████████████████████████████| 165/165 [02:57<00:00,  1.08s/batch, D Loss=0.8111, G Loss=0.8668]\n"
     ]
    },
    {
     "name": "stdout",
     "output_type": "stream",
     "text": [
      "Epoch [43/50] Completed | Avg D Loss: 0.7577 | Avg G Loss: 4.1002\n",
      "Starting Epoch 44/50...\n"
     ]
    },
    {
     "name": "stderr",
     "output_type": "stream",
     "text": [
      "Epoch 44/50: 100%|██████████████████████████████████| 165/165 [03:32<00:00,  1.29s/batch, D Loss=0.1828, G Loss=6.2300]\n"
     ]
    },
    {
     "name": "stdout",
     "output_type": "stream",
     "text": [
      "Epoch [44/50] Completed | Avg D Loss: 0.6050 | Avg G Loss: 4.2942\n",
      "Starting Epoch 45/50...\n"
     ]
    },
    {
     "name": "stderr",
     "output_type": "stream",
     "text": [
      "Epoch 45/50: 100%|██████████████████████████████████| 165/165 [03:00<00:00,  1.09s/batch, D Loss=0.1016, G Loss=3.3477]\n"
     ]
    },
    {
     "name": "stdout",
     "output_type": "stream",
     "text": [
      "Epoch [45/50] Completed | Avg D Loss: 0.5900 | Avg G Loss: 4.3017\n",
      "Starting Epoch 46/50...\n"
     ]
    },
    {
     "name": "stderr",
     "output_type": "stream",
     "text": [
      "Epoch 46/50: 100%|██████████████████████████████████| 165/165 [02:57<00:00,  1.08s/batch, D Loss=1.1883, G Loss=3.1888]\n"
     ]
    },
    {
     "name": "stdout",
     "output_type": "stream",
     "text": [
      "Epoch [46/50] Completed | Avg D Loss: 0.5546 | Avg G Loss: 4.6256\n",
      "Starting Epoch 47/50...\n"
     ]
    },
    {
     "name": "stderr",
     "output_type": "stream",
     "text": [
      "Epoch 47/50: 100%|██████████████████████████████████| 165/165 [02:57<00:00,  1.08s/batch, D Loss=4.8455, G Loss=0.4351]\n"
     ]
    },
    {
     "name": "stdout",
     "output_type": "stream",
     "text": [
      "Epoch [47/50] Completed | Avg D Loss: 0.6373 | Avg G Loss: 4.7016\n",
      "Starting Epoch 48/50...\n"
     ]
    },
    {
     "name": "stderr",
     "output_type": "stream",
     "text": [
      "Epoch 48/50: 100%|██████████████████████████████████| 165/165 [02:58<00:00,  1.08s/batch, D Loss=5.2782, G Loss=0.0026]\n"
     ]
    },
    {
     "name": "stdout",
     "output_type": "stream",
     "text": [
      "Epoch [48/50] Completed | Avg D Loss: 0.6141 | Avg G Loss: 4.3506\n",
      "Starting Epoch 49/50...\n"
     ]
    },
    {
     "name": "stderr",
     "output_type": "stream",
     "text": [
      "Epoch 49/50: 100%|██████████████████████████████████| 165/165 [02:58<00:00,  1.08s/batch, D Loss=2.0931, G Loss=0.2773]\n"
     ]
    },
    {
     "name": "stdout",
     "output_type": "stream",
     "text": [
      "Epoch [49/50] Completed | Avg D Loss: 0.6150 | Avg G Loss: 4.5087\n",
      "Starting Epoch 50/50...\n"
     ]
    },
    {
     "name": "stderr",
     "output_type": "stream",
     "text": [
      "Epoch 50/50: 100%|██████████████████████████████████| 165/165 [02:58<00:00,  1.08s/batch, D Loss=0.4134, G Loss=3.8615]"
     ]
    },
    {
     "name": "stdout",
     "output_type": "stream",
     "text": [
      "Epoch [50/50] Completed | Avg D Loss: 0.5979 | Avg G Loss: 4.6119\n"
     ]
    },
    {
     "name": "stderr",
     "output_type": "stream",
     "text": [
      "\n"
     ]
    }
   ],
   "source": [
    "import os\n",
    "import torch\n",
    "import torch.nn as nn\n",
    "import torch.optim as optim\n",
    "from torchvision import transforms\n",
    "from torch.utils.data import DataLoader, Dataset, random_split\n",
    "from PIL import Image\n",
    "import numpy as np\n",
    "from tqdm import tqdm\n",
    "import torch.nn.functional as F\n",
    "\n",
    "# Set device\n",
    "device = torch.device(\"cuda\" if torch.cuda.is_available() else \"cpu\")\n",
    "print(f\"Using device: {device}\")\n",
    "\n",
    "# Fix random seed for reproducibility\n",
    "seed = 42\n",
    "torch.manual_seed(seed)\n",
    "np.random.seed(seed)\n",
    "\n",
    "# Dataset Paths and Classes\n",
    "data_dir = r'C:\\Users\\liuha\\Downloads\\APS360 Project Dataset'\n",
    "class_dirs = ['adenocarcinoma', 'benign', 'squamous_cell_carcinoma']\n",
    "num_classes = len(class_dirs)\n",
    "\n",
    "# Data Transformations\n",
    "data_transforms = transforms.Compose([\n",
    "    transforms.Resize((224, 224)),\n",
    "    transforms.ToTensor(),\n",
    "    transforms.Normalize([0.5]*3, [0.5]*3)\n",
    "])\n",
    "\n",
    "# Custom Dataset Class\n",
    "class LungCancerDataset(Dataset):\n",
    "    def __init__(self, images_dir, class_dirs, transform=None):\n",
    "        self.images = []\n",
    "        self.labels = []\n",
    "        self.transform = transform\n",
    "        self.class_to_idx = {class_name: idx for idx, class_name in enumerate(class_dirs)}\n",
    "\n",
    "        for class_name in class_dirs:\n",
    "            class_path = os.path.join(images_dir, class_name)\n",
    "            for image_name in os.listdir(class_path):\n",
    "                image_path = os.path.join(class_path, image_name)\n",
    "                self.images.append(image_path)\n",
    "                self.labels.append(self.class_to_idx[class_name])\n",
    "\n",
    "    def __len__(self):\n",
    "        return len(self.images)\n",
    "\n",
    "    def __getitem__(self, idx):\n",
    "        try:\n",
    "            image_path = self.images[idx]\n",
    "            image = Image.open(image_path).convert('RGB')\n",
    "            gray_image = np.array(Image.open(image_path).convert('L'))\n",
    "        except Exception as e:\n",
    "            print(f\"Error loading image at index {idx}: {e}\")\n",
    "            raise e\n",
    "\n",
    "        mean = np.mean(gray_image)\n",
    "        variance = np.var(gray_image)\n",
    "        contrast = np.max(gray_image) - np.min(gray_image)\n",
    "        knowledge_features = torch.tensor([mean, variance, contrast], dtype=torch.float32)\n",
    "\n",
    "        if self.transform:\n",
    "            image = self.transform(image)\n",
    "\n",
    "        label = self.labels[idx]\n",
    "        return image, knowledge_features, torch.tensor(label, dtype=torch.long)\n",
    "\n",
    "# Create Dataset and Split\n",
    "dataset = LungCancerDataset(data_dir, class_dirs, transform=data_transforms)\n",
    "\n",
    "# Fix random seed for data splitting\n",
    "generator = torch.Generator().manual_seed(seed)\n",
    "\n",
    "train_size = int(0.7 * len(dataset))\n",
    "val_size = int(0.15 * len(dataset))\n",
    "test_size = len(dataset) - train_size - val_size\n",
    "\n",
    "train_dataset, val_dataset, test_dataset = random_split(\n",
    "    dataset, [train_size, val_size, test_size], generator=generator\n",
    ")\n",
    "\n",
    "train_loader = DataLoader(train_dataset, batch_size=64, shuffle=True, num_workers=0)\n",
    "val_loader = DataLoader(val_dataset, batch_size=64, shuffle=False, num_workers=0)\n",
    "test_loader = DataLoader(test_dataset, batch_size=64, shuffle=False, num_workers=0)\n",
    "\n",
    "# GAN Components\n",
    "class ConditionalGenerator(nn.Module):\n",
    "    def __init__(self, z_dim=100, class_dim=10, img_channels=3):\n",
    "        super(ConditionalGenerator, self).__init__()\n",
    "        self.label_emb = nn.Embedding(num_classes, class_dim)\n",
    "        input_dim = z_dim + class_dim\n",
    "        self.gen = nn.Sequential(\n",
    "            nn.ConvTranspose2d(input_dim, 1024, kernel_size=4, stride=1, padding=0),  # Output: 4x4\n",
    "            nn.BatchNorm2d(1024),\n",
    "            nn.ReLU(True),\n",
    "            nn.ConvTranspose2d(1024, 512, kernel_size=4, stride=2, padding=1),    # Output: 8x8\n",
    "            nn.BatchNorm2d(512),\n",
    "            nn.ReLU(True),\n",
    "            nn.ConvTranspose2d(512, 256, kernel_size=4, stride=2, padding=1),     # Output: 16x16\n",
    "            nn.BatchNorm2d(256),\n",
    "            nn.ReLU(True),\n",
    "            nn.ConvTranspose2d(256, 128, kernel_size=4, stride=2, padding=1),     # Output: 32x32\n",
    "            nn.BatchNorm2d(128),\n",
    "            nn.ReLU(True),\n",
    "            nn.ConvTranspose2d(128, 64, kernel_size=4, stride=2, padding=1),      # Output: 64x64\n",
    "            nn.BatchNorm2d(64),\n",
    "            nn.ReLU(True),\n",
    "            nn.ConvTranspose2d(64, img_channels, kernel_size=4, stride=2, padding=1),  # Output: 128x128\n",
    "            nn.Tanh(),\n",
    "            nn.Upsample(size=(224, 224), mode='bilinear', align_corners=False)    # Resize to 224x224\n",
    "        )\n",
    "\n",
    "    def forward(self, noise, labels):\n",
    "        label_embedding = self.label_emb(labels).unsqueeze(2).unsqueeze(3)  # [batch_size, class_dim, 1, 1]\n",
    "        input = torch.cat((noise, label_embedding), dim=1)\n",
    "        return self.gen(input)\n",
    "\n",
    "class ConditionalDiscriminator(nn.Module):\n",
    "    def __init__(self, class_dim=10, img_channels=3):\n",
    "        super(ConditionalDiscriminator, self).__init__()\n",
    "        self.label_emb = nn.Embedding(num_classes, class_dim)\n",
    "        self.conv_layers = nn.Sequential(\n",
    "            nn.Conv2d(img_channels + class_dim, 64, kernel_size=4, stride=2, padding=1),  # Output: 112x112\n",
    "            nn.LeakyReLU(0.2, inplace=True),\n",
    "            nn.Conv2d(64, 128, kernel_size=4, stride=2, padding=1),  # Output: 56x56\n",
    "            nn.BatchNorm2d(128),\n",
    "            nn.LeakyReLU(0.2, inplace=True),\n",
    "            nn.Conv2d(128, 256, kernel_size=4, stride=2, padding=1),  # Output: 28x28\n",
    "            nn.BatchNorm2d(256),\n",
    "            nn.LeakyReLU(0.2, inplace=True),\n",
    "            nn.Conv2d(256, 512, kernel_size=4, stride=2, padding=1),  # Output: 14x14\n",
    "            nn.BatchNorm2d(512),\n",
    "            nn.LeakyReLU(0.2, inplace=True),\n",
    "            nn.Conv2d(512, 512, kernel_size=4, stride=2, padding=1),  # Output: 7x7\n",
    "            nn.BatchNorm2d(512),\n",
    "            nn.LeakyReLU(0.2, inplace=True),\n",
    "        )\n",
    "        self.final_layer = nn.Sequential(\n",
    "            nn.Conv2d(512, 1, kernel_size=7, stride=1, padding=0),  # Output: 1x1\n",
    "            nn.Sigmoid()\n",
    "        )\n",
    "\n",
    "    def forward(self, img, labels):\n",
    "        label_embedding = self.label_emb(labels).unsqueeze(2).unsqueeze(3)\n",
    "        label_embedding = label_embedding.expand(labels.size(0), -1, img.size(2), img.size(3))\n",
    "        input = torch.cat((img, label_embedding), dim=1)\n",
    "        x = self.conv_layers(input)\n",
    "        x = self.final_layer(x)\n",
    "        return x.view(-1, 1)\n",
    "\n",
    "# Initialize weights\n",
    "def weights_init(m):\n",
    "    if isinstance(m, (nn.Conv2d, nn.ConvTranspose2d)):\n",
    "        nn.init.xavier_normal_(m.weight)\n",
    "    elif isinstance(m, nn.BatchNorm2d):\n",
    "        nn.init.constant_(m.weight, 1)\n",
    "        nn.init.constant_(m.bias, 0)\n",
    "\n",
    "# Train GAN\n",
    "def train_cgan(train_loader, z_dim=100, class_dim=10, epochs=50):\n",
    "    generator = ConditionalGenerator(z_dim=z_dim, class_dim=class_dim).to(device)\n",
    "    discriminator = ConditionalDiscriminator(class_dim=class_dim).to(device)\n",
    "\n",
    "    # Apply weights initialization\n",
    "    generator.apply(weights_init)\n",
    "    discriminator.apply(weights_init)\n",
    "\n",
    "    criterion = nn.BCELoss()\n",
    "    optim_gen = optim.Adam(generator.parameters(), lr=0.0002, betas=(0.5, 0.999))\n",
    "    optim_disc = optim.Adam(discriminator.parameters(), lr=0.0002, betas=(0.5, 0.999))\n",
    "\n",
    "    for epoch in range(epochs):\n",
    "        print(f\"Starting Epoch {epoch+1}/{epochs}...\")\n",
    "        epoch_loss_d = 0.0\n",
    "        epoch_loss_g = 0.0\n",
    "        num_batches = len(train_loader)\n",
    "\n",
    "        with tqdm(total=num_batches, desc=f\"Epoch {epoch+1}/{epochs}\", unit=\"batch\") as pbar:\n",
    "            for i, (real_imgs, _, labels) in enumerate(train_loader):\n",
    "                real_imgs = real_imgs.to(device)\n",
    "                labels = labels.to(device)\n",
    "                batch_size = real_imgs.size(0)\n",
    "\n",
    "                # Train Discriminator\n",
    "                discriminator.zero_grad()\n",
    "                real_output = discriminator(real_imgs, labels)\n",
    "                real_loss = criterion(real_output, torch.ones_like(real_output, device=device))\n",
    "\n",
    "                noise = torch.randn(batch_size, z_dim, 1, 1, device=device)\n",
    "                fake_imgs = generator(noise, labels)\n",
    "                fake_output = discriminator(fake_imgs.detach(), labels)\n",
    "                fake_loss = criterion(fake_output, torch.zeros_like(fake_output, device=device))\n",
    "\n",
    "                disc_loss = real_loss + fake_loss\n",
    "                disc_loss.backward()\n",
    "                optim_disc.step()\n",
    "\n",
    "                # Train Generator\n",
    "                generator.zero_grad()\n",
    "                fake_imgs = generator(noise, labels)\n",
    "                output = discriminator(fake_imgs, labels)\n",
    "                gen_loss = criterion(output, torch.ones_like(output, device=device))\n",
    "                gen_loss.backward()\n",
    "                optim_gen.step()\n",
    "\n",
    "                # Update epoch losses\n",
    "                epoch_loss_d += disc_loss.item()\n",
    "                epoch_loss_g += gen_loss.item()\n",
    "\n",
    "                pbar.set_postfix({\"D Loss\": f\"{disc_loss.item():.4f}\", \"G Loss\": f\"{gen_loss.item():.4f}\"})\n",
    "                pbar.update(1)\n",
    "\n",
    "        avg_loss_d = epoch_loss_d / num_batches\n",
    "        avg_loss_g = epoch_loss_g / num_batches\n",
    "        print(f\"Epoch [{epoch + 1}/{epochs}] Completed | Avg D Loss: {avg_loss_d:.4f} | Avg G Loss: {avg_loss_g:.4f}\")\n",
    "\n",
    "    return generator\n",
    "\n",
    "# Start training\n",
    "generator = train_cgan(train_loader)\n"
   ]
  },
  {
   "cell_type": "code",
   "execution_count": 69,
   "id": "1f4c7640-483a-4524-96d8-b554f00d860c",
   "metadata": {},
   "outputs": [
    {
     "name": "stdout",
     "output_type": "stream",
     "text": [
      "Using device: cuda\n",
      "Generating synthetic images...\n",
      "Saving synthetic images...\n",
      "Creating combined dataset...\n",
      "Initializing DataLoader...\n"
     ]
    }
   ],
   "source": [
    "import os\n",
    "import torch\n",
    "from torch.utils.data import DataLoader, Dataset, ConcatDataset\n",
    "from torchvision.transforms.functional import to_pil_image\n",
    "from torchvision import transforms\n",
    "from torchvision.utils import save_image\n",
    "import numpy as np\n",
    "\n",
    "# Set device\n",
    "device = torch.device(\"cuda\" if torch.cuda.is_available() else \"cpu\")\n",
    "print(f\"Using device: {device}\")\n",
    "\n",
    "# Dataset Paths and Classes\n",
    "data_dir = r'C:\\Users\\liuha\\Downloads\\APS360 Project Dataset'\n",
    "class_dirs = ['adenocarcinoma', 'benign', 'squamous_cell_carcinoma']\n",
    "num_classes = len(class_dirs)\n",
    "\n",
    "# Data Transformations\n",
    "data_transforms = transforms.Compose([\n",
    "    transforms.Resize((224, 224)),\n",
    "    transforms.ToTensor(),\n",
    "    transforms.Normalize([0.5] * 3, [0.5] * 3)  # Normalize images to [-1, 1]\n",
    "])\n",
    "\n",
    "# Generate Synthetic Data for Each Class\n",
    "def generate_synthetic_images(generator, num_images_per_class=5000):\n",
    "    generator.eval()\n",
    "    synthetic_images = {i: [] for i in range(num_classes)}\n",
    "    with torch.no_grad():\n",
    "        for class_idx in range(num_classes):\n",
    "            num_generated = 0\n",
    "            while num_generated < num_images_per_class:\n",
    "                # Generate noise and labels\n",
    "                noise = torch.randn(1, 100, 1, 1, device=device)\n",
    "                labels = torch.tensor([class_idx], device=device)\n",
    "                # Generate synthetic image\n",
    "                img = generator(noise, labels).squeeze(0).cpu()\n",
    "                synthetic_images[class_idx].append(img)\n",
    "                num_generated += 1\n",
    "    return synthetic_images\n",
    "\n",
    "# Save synthetic images for visualization (optional)\n",
    "def save_synthetic_images(synthetic_images, output_dir=\"synthetic_data\"):\n",
    "    os.makedirs(output_dir, exist_ok=True)\n",
    "    for class_idx, images in synthetic_images.items():\n",
    "        class_dir = os.path.join(output_dir, f\"class_{class_idx}\")\n",
    "        os.makedirs(class_dir, exist_ok=True)\n",
    "        for idx, img_tensor in enumerate(images):\n",
    "            # Normalize the tensor from [-1, 1] to [0, 1]\n",
    "            img_tensor = (img_tensor + 1) / 2\n",
    "            img_tensor = img_tensor.clamp(0, 1)\n",
    "            # Save the image using save_image\n",
    "            save_image(img_tensor, f\"{class_dir}/synthetic_img_{idx}.png\")\n",
    "\n",
    "# Synthetic Dataset Class\n",
    "class SyntheticDataset(Dataset):\n",
    "    def __init__(self, synthetic_images, class_idx, transform=None):\n",
    "        self.images = synthetic_images\n",
    "        self.labels = [class_idx] * len(synthetic_images)\n",
    "        self.transform = transform\n",
    "\n",
    "    def __len__(self):\n",
    "        return len(self.images)\n",
    "\n",
    "    def __getitem__(self, idx):\n",
    "        img_tensor = self.images[idx]\n",
    "        label = self.labels[idx]\n",
    "\n",
    "        # Normalize the tensor from [-1, 1] to [0, 1]\n",
    "        img_tensor = (img_tensor + 1) / 2\n",
    "        img_tensor = img_tensor.clamp(0, 1)\n",
    "\n",
    "        # Apply transforms\n",
    "        if self.transform:\n",
    "            # Convert the tensor to PIL Image\n",
    "            img = to_pil_image(img_tensor)\n",
    "            img = self.transform(img)\n",
    "        else:\n",
    "            # If no transform is provided, normalize\n",
    "            img = img_tensor\n",
    "            img = transforms.Normalize([0.5] * 3, [0.5] * 3)(img)\n",
    "\n",
    "        # Extract synthetic texture features\n",
    "        img_gray = img_tensor.mean(dim=0).numpy() * 255  # Convert to grayscale\n",
    "        mean = np.mean(img_gray)\n",
    "        variance = np.var(img_gray)\n",
    "        contrast = np.max(img_gray) - np.min(img_gray)\n",
    "        knowledge_features = torch.tensor([mean, variance, contrast], dtype=torch.float32)\n",
    "\n",
    "        return img, knowledge_features, torch.tensor(label, dtype=torch.long)\n",
    "\n",
    "# Combine synthetic and original datasets\n",
    "def create_combined_dataset(train_dataset, synthetic_images):\n",
    "    synthetic_datasets = []\n",
    "    for class_idx in range(num_classes):\n",
    "        synthetic_class_images = synthetic_images[class_idx]\n",
    "        synthetic_dataset = SyntheticDataset(synthetic_class_images, class_idx, transform=data_transforms)\n",
    "        synthetic_datasets.append(synthetic_dataset)\n",
    "\n",
    "    # Combine original and synthetic datasets\n",
    "    combined_train_dataset = ConcatDataset([train_dataset] + synthetic_datasets)\n",
    "    return combined_train_dataset\n",
    "\n",
    "# Main Workflow\n",
    "def main(generator, train_dataset, num_images_per_class=5000, batch_size=32):\n",
    "    print(\"Generating synthetic images...\")\n",
    "    synthetic_images = generate_synthetic_images(generator, num_images_per_class=num_images_per_class)\n",
    "\n",
    "    print(\"Saving synthetic images...\")\n",
    "    save_synthetic_images(synthetic_images)\n",
    "\n",
    "    print(\"Creating combined dataset...\")\n",
    "    combined_train_dataset = create_combined_dataset(train_dataset, synthetic_images)\n",
    "\n",
    "    print(\"Initializing DataLoader...\")\n",
    "    combined_train_loader = DataLoader(combined_train_dataset, batch_size=batch_size, shuffle=True, num_workers=0)\n",
    "\n",
    "    return combined_train_loader\n",
    "\n",
    "# Example usage:\n",
    "# Assuming `generator` is your trained GAN generator and `train_dataset` is the original training dataset\n",
    "combined_train_loader = main(generator, train_dataset)\n"
   ]
  },
  {
   "cell_type": "code",
   "execution_count": 111,
   "id": "d905fa05-d20a-4804-a0b0-b111383ecad7",
   "metadata": {},
   "outputs": [
    {
     "name": "stdout",
     "output_type": "stream",
     "text": [
      "Synthetic images are stored at: C:\\Users\\liuha\\synthetic_data\n"
     ]
    }
   ],
   "source": [
    "import os\n",
    "\n",
    "output_dir = \"synthetic_data\"\n",
    "full_path = os.path.abspath(output_dir)\n",
    "if os.path.exists(output_dir):\n",
    "    print(f\"Synthetic images are stored at: {full_path}\")\n",
    "else:\n",
    "    print(\"Synthetic images directory not found.\")\n"
   ]
  },
  {
   "cell_type": "code",
   "execution_count": 113,
   "id": "03a5655f-277c-4bac-9f78-f27501dacd24",
   "metadata": {},
   "outputs": [],
   "source": [
    "# Define the KATANA Model\n",
    "class KATANA(nn.Module):\n",
    "    def __init__(self):\n",
    "        super(KATANA, self).__init__()\n",
    "        \n",
    "        # CNN Pathway\n",
    "        self.conv1 = nn.Conv2d(3, 32, kernel_size=3, padding=1)  # Output: [batch, 32, 224, 224]\n",
    "        self.conv2 = nn.Conv2d(32, 64, kernel_size=3, padding=1)  # Output: [batch, 64, 112, 112]\n",
    "        self.conv3 = nn.Conv2d(64, 128, kernel_size=3, padding=1)  # Output: [batch, 128, 56, 56]\n",
    "        self.pool = nn.MaxPool2d(2, 2)\n",
    "        self.relu = nn.ReLU()\n",
    "        self.flatten = nn.Flatten()\n",
    "\n",
    "        self.cnn_fc1 = nn.Linear(128 * 28 * 28, 256)\n",
    "        self.cnn_fc2 = nn.Linear(256, 128)\n",
    "        \n",
    "        # KAN Pathway\n",
    "        self.kan_fc1 = nn.Linear(3, 64)\n",
    "        self.kan_fc2 = nn.Linear(64, 32)\n",
    "\n",
    "        # Fusion Layer\n",
    "        self.fc1 = nn.Linear(128 + 32, 256)\n",
    "        self.fc2 = nn.Linear(256, 128)\n",
    "        self.fc3 = nn.Linear(128, num_classes)\n",
    "        self.dropout = nn.Dropout(0.5)\n",
    "\n",
    "    def forward(self, x, knowledge_features):\n",
    "        # CNN Pathway\n",
    "        x = self.pool(self.relu(self.conv1(x)))   # [batch, 32, 112, 112]\n",
    "        x = self.pool(self.relu(self.conv2(x)))   # [batch, 64, 56, 56]\n",
    "        x = self.pool(self.relu(self.conv3(x)))   # [batch, 128, 28, 28]\n",
    "        x = self.flatten(x)\n",
    "        x = self.relu(self.cnn_fc1(x))\n",
    "        x = self.relu(self.cnn_fc2(x))\n",
    "        \n",
    "        # KAN Pathway\n",
    "        k = self.relu(self.kan_fc1(knowledge_features))\n",
    "        k = self.relu(self.kan_fc2(k))\n",
    "        \n",
    "        # Fusion Layer\n",
    "        combined = torch.cat((x, k), dim=1)\n",
    "        combined = self.relu(self.fc1(combined))\n",
    "        combined = self.dropout(self.relu(self.fc2(combined)))\n",
    "        output = self.fc3(combined)\n",
    "        \n",
    "        return output"
   ]
  },
  {
   "cell_type": "code",
   "execution_count": 101,
   "id": "23f2d4ae-8525-4656-afd8-4295e4206cfc",
   "metadata": {},
   "outputs": [
    {
     "name": "stderr",
     "output_type": "stream",
     "text": [
      "Epoch 1/10: 100%|████████████████████████████████████████████████████| 797/797 [04:42<00:00,  2.82batch/s, Loss=0.0885]\n"
     ]
    },
    {
     "name": "stdout",
     "output_type": "stream",
     "text": [
      "Epoch 1/10: Train Loss: 0.2168, Train Acc: 0.9253, Train F1: 0.9253\n"
     ]
    },
    {
     "name": "stderr",
     "output_type": "stream",
     "text": [
      "                                                                                                                       \r"
     ]
    },
    {
     "name": "stdout",
     "output_type": "stream",
     "text": [
      "Epoch 1/10: Val Loss: 0.2413, Val Acc: 0.9053, Val F1 (Weighted): 0.9053\n",
      "\n",
      "Per-Class F1 Scores:\n",
      "Class A: 0.8694\n",
      "Class B: 0.9726\n",
      "Class C: 0.8772\n"
     ]
    },
    {
     "name": "stderr",
     "output_type": "stream",
     "text": [
      "Epoch 2/10: 100%|████████████████████████████████████████████████████| 797/797 [03:55<00:00,  3.38batch/s, Loss=0.0718]\n"
     ]
    },
    {
     "name": "stdout",
     "output_type": "stream",
     "text": [
      "Epoch 2/10: Train Loss: 0.1068, Train Acc: 0.9628, Train F1: 0.9628\n"
     ]
    },
    {
     "name": "stderr",
     "output_type": "stream",
     "text": [
      "                                                                                                                       \r"
     ]
    },
    {
     "name": "stdout",
     "output_type": "stream",
     "text": [
      "Epoch 2/10: Val Loss: 0.1985, Val Acc: 0.9231, Val F1 (Weighted): 0.9227\n",
      "\n",
      "Per-Class F1 Scores:\n",
      "Class A: 0.8870\n",
      "Class B: 0.9763\n",
      "Class C: 0.9074\n"
     ]
    },
    {
     "name": "stderr",
     "output_type": "stream",
     "text": [
      "Epoch 3/10: 100%|████████████████████████████████████████████████████| 797/797 [03:52<00:00,  3.42batch/s, Loss=0.0846]\n"
     ]
    },
    {
     "name": "stdout",
     "output_type": "stream",
     "text": [
      "Epoch 3/10: Train Loss: 0.0742, Train Acc: 0.9741, Train F1: 0.9741\n"
     ]
    },
    {
     "name": "stderr",
     "output_type": "stream",
     "text": [
      "                                                                                                                       \r"
     ]
    },
    {
     "name": "stdout",
     "output_type": "stream",
     "text": [
      "Epoch 3/10: Val Loss: 0.1537, Val Acc: 0.9369, Val F1 (Weighted): 0.9368\n",
      "\n",
      "Per-Class F1 Scores:\n",
      "Class A: 0.9078\n",
      "Class B: 0.9883\n",
      "Class C: 0.9167\n"
     ]
    },
    {
     "name": "stderr",
     "output_type": "stream",
     "text": [
      "Epoch 4/10: 100%|████████████████████████████████████████████████████| 797/797 [03:49<00:00,  3.47batch/s, Loss=0.0130]\n"
     ]
    },
    {
     "name": "stdout",
     "output_type": "stream",
     "text": [
      "Epoch 4/10: Train Loss: 0.0659, Train Acc: 0.9791, Train F1: 0.9790\n"
     ]
    },
    {
     "name": "stderr",
     "output_type": "stream",
     "text": [
      "                                                                                                                       \r"
     ]
    },
    {
     "name": "stdout",
     "output_type": "stream",
     "text": [
      "Epoch 4/10: Val Loss: 0.1424, Val Acc: 0.9493, Val F1 (Weighted): 0.9494\n",
      "\n",
      "Per-Class F1 Scores:\n",
      "Class A: 0.9253\n",
      "Class B: 0.9931\n",
      "Class C: 0.9319\n"
     ]
    },
    {
     "name": "stderr",
     "output_type": "stream",
     "text": [
      "Epoch 5/10: 100%|████████████████████████████████████████████████████| 797/797 [03:48<00:00,  3.48batch/s, Loss=0.0548]\n"
     ]
    },
    {
     "name": "stdout",
     "output_type": "stream",
     "text": [
      "Epoch 5/10: Train Loss: 0.0425, Train Acc: 0.9865, Train F1: 0.9865\n"
     ]
    },
    {
     "name": "stderr",
     "output_type": "stream",
     "text": [
      "                                                                                                                       \r"
     ]
    },
    {
     "name": "stdout",
     "output_type": "stream",
     "text": [
      "Epoch 5/10: Val Loss: 0.1606, Val Acc: 0.9409, Val F1 (Weighted): 0.9407\n",
      "\n",
      "Per-Class F1 Scores:\n",
      "Class A: 0.9148\n",
      "Class B: 0.9837\n",
      "Class C: 0.9257\n"
     ]
    },
    {
     "name": "stderr",
     "output_type": "stream",
     "text": [
      "Epoch 6/10: 100%|████████████████████████████████████████████████████| 797/797 [03:50<00:00,  3.45batch/s, Loss=0.0015]\n"
     ]
    },
    {
     "name": "stdout",
     "output_type": "stream",
     "text": [
      "Epoch 6/10: Train Loss: 0.0253, Train Acc: 0.9919, Train F1: 0.9919\n"
     ]
    },
    {
     "name": "stderr",
     "output_type": "stream",
     "text": [
      "                                                                                                                       \r"
     ]
    },
    {
     "name": "stdout",
     "output_type": "stream",
     "text": [
      "Epoch 6/10: Val Loss: 0.1925, Val Acc: 0.9400, Val F1 (Weighted): 0.9394\n",
      "\n",
      "Per-Class F1 Scores:\n",
      "Class A: 0.9068\n",
      "Class B: 0.9837\n",
      "Class C: 0.9296\n"
     ]
    },
    {
     "name": "stderr",
     "output_type": "stream",
     "text": [
      "Epoch 7/10: 100%|████████████████████████████████████████████████████| 797/797 [03:50<00:00,  3.45batch/s, Loss=0.0020]\n"
     ]
    },
    {
     "name": "stdout",
     "output_type": "stream",
     "text": [
      "Epoch 7/10: Train Loss: 0.0197, Train Acc: 0.9948, Train F1: 0.9948\n"
     ]
    },
    {
     "name": "stderr",
     "output_type": "stream",
     "text": [
      "                                                                                                                       \r"
     ]
    },
    {
     "name": "stdout",
     "output_type": "stream",
     "text": [
      "Epoch 7/10: Val Loss: 0.1696, Val Acc: 0.9520, Val F1 (Weighted): 0.9520\n",
      "\n",
      "Per-Class F1 Scores:\n",
      "Class A: 0.9305\n",
      "Class B: 0.9931\n",
      "Class C: 0.9343\n"
     ]
    },
    {
     "name": "stderr",
     "output_type": "stream",
     "text": [
      "Epoch 8/10: 100%|████████████████████████████████████████████████████| 797/797 [03:50<00:00,  3.46batch/s, Loss=0.0004]\n"
     ]
    },
    {
     "name": "stdout",
     "output_type": "stream",
     "text": [
      "Epoch 8/10: Train Loss: 0.0220, Train Acc: 0.9947, Train F1: 0.9947\n"
     ]
    },
    {
     "name": "stderr",
     "output_type": "stream",
     "text": [
      "                                                                                                                       \r"
     ]
    },
    {
     "name": "stdout",
     "output_type": "stream",
     "text": [
      "Epoch 8/10: Val Loss: 0.1836, Val Acc: 0.9484, Val F1 (Weighted): 0.9482\n",
      "\n",
      "Per-Class F1 Scores:\n",
      "Class A: 0.9216\n",
      "Class B: 0.9877\n",
      "Class C: 0.9371\n"
     ]
    },
    {
     "name": "stderr",
     "output_type": "stream",
     "text": [
      "Epoch 9/10: 100%|████████████████████████████████████████████████████| 797/797 [03:49<00:00,  3.47batch/s, Loss=0.0002]\n"
     ]
    },
    {
     "name": "stdout",
     "output_type": "stream",
     "text": [
      "Epoch 9/10: Train Loss: 0.0253, Train Acc: 0.9929, Train F1: 0.9929\n"
     ]
    },
    {
     "name": "stderr",
     "output_type": "stream",
     "text": [
      "                                                                                                                       \r"
     ]
    },
    {
     "name": "stdout",
     "output_type": "stream",
     "text": [
      "Epoch 9/10: Val Loss: 0.3419, Val Acc: 0.9502, Val F1 (Weighted): 0.9502\n",
      "\n",
      "Per-Class F1 Scores:\n",
      "Class A: 0.9280\n",
      "Class B: 0.9938\n",
      "Class C: 0.9307\n"
     ]
    },
    {
     "name": "stderr",
     "output_type": "stream",
     "text": [
      "Epoch 10/10: 100%|███████████████████████████████████████████████████| 797/797 [03:46<00:00,  3.51batch/s, Loss=0.0038]\n"
     ]
    },
    {
     "name": "stdout",
     "output_type": "stream",
     "text": [
      "Epoch 10/10: Train Loss: 0.0208, Train Acc: 0.9952, Train F1: 0.9952\n"
     ]
    },
    {
     "name": "stderr",
     "output_type": "stream",
     "text": [
      "                                                                                                                       \r"
     ]
    },
    {
     "name": "stdout",
     "output_type": "stream",
     "text": [
      "Epoch 10/10: Val Loss: 0.1522, Val Acc: 0.9582, Val F1 (Weighted): 0.9583\n",
      "\n",
      "Per-Class F1 Scores:\n",
      "Class A: 0.9377\n",
      "Class B: 0.9931\n",
      "Class C: 0.9456\n"
     ]
    },
    {
     "data": {
      "image/png": "[encoded data removed]",
      "text/plain": [
       "<Figure size 640x480 with 1 Axes>"
      ]
     },
     "metadata": {},
     "output_type": "display_data"
    },
    {
     "data": {
      "image/png": "[encoded data removed]",
      "text/plain": [
       "<Figure size 640x480 with 1 Axes>"
      ]
     },
     "metadata": {},
     "output_type": "display_data"
    }
   ],
   "source": [
    "import matplotlib.pyplot as plt\n",
    "from sklearn.metrics import f1_score, classification_report\n",
    "\n",
    "# Initialize the KATANA model\n",
    "model = KATANA().to(device)\n",
    "criterion = nn.CrossEntropyLoss()\n",
    "optimizer = optim.Adam(model.parameters(), lr=0.001)\n",
    "\n",
    "# Training Function with tqdm Progress Bar\n",
    "def train_katana(model, train_loader, val_loader, criterion, optimizer, num_epochs=10, class_names=None):\n",
    "    train_losses = []\n",
    "    val_losses = []\n",
    "    train_accuracies = []\n",
    "    val_accuracies = []\n",
    "\n",
    "    for epoch in range(num_epochs):\n",
    "        # Training Phase\n",
    "        model.train()\n",
    "        running_loss = 0.0\n",
    "        correct = 0\n",
    "        total = 0\n",
    "        all_preds = []\n",
    "        all_labels = []\n",
    "\n",
    "        num_batches = len(train_loader)\n",
    "        with tqdm(total=num_batches, desc=f\"Epoch {epoch + 1}/{num_epochs}\", unit=\"batch\") as pbar:\n",
    "            for images, knowledge_features, labels in train_loader:\n",
    "                images, knowledge_features, labels = images.to(device), knowledge_features.to(device), labels.to(device)\n",
    "\n",
    "                optimizer.zero_grad()\n",
    "                outputs = model(images, knowledge_features)\n",
    "                loss = criterion(outputs, labels)\n",
    "                loss.backward()\n",
    "                optimizer.step()\n",
    "\n",
    "                running_loss += loss.item() * images.size(0)\n",
    "                _, preds = torch.max(outputs, 1)\n",
    "                correct += torch.sum(preds == labels)\n",
    "                total += labels.size(0)\n",
    "\n",
    "                all_preds.extend(preds.cpu().numpy())\n",
    "                all_labels.extend(labels.cpu().numpy())\n",
    "\n",
    "                pbar.update(1)\n",
    "                pbar.set_postfix({\"Loss\": f\"{loss.item():.4f}\"})\n",
    "\n",
    "        # Calculate training metrics\n",
    "        train_f1 = f1_score(all_labels, all_preds, average='weighted')\n",
    "        train_loss = running_loss / len(train_loader.dataset)\n",
    "        train_acc = correct.double() / total\n",
    "        train_losses.append(train_loss)\n",
    "        train_accuracies.append(train_acc.item())\n",
    "        print(f\"Epoch {epoch + 1}/{num_epochs}: Train Loss: {train_loss:.4f}, Train Acc: {train_acc:.4f}, Train F1: {train_f1:.4f}\")\n",
    "\n",
    "        # Validation Phase\n",
    "        model.eval()\n",
    "        val_running_loss = 0.0\n",
    "        val_correct = 0\n",
    "        val_total = 0\n",
    "        val_preds = []\n",
    "        val_labels = []\n",
    "\n",
    "        num_val_batches = len(val_loader)\n",
    "        with tqdm(total=num_val_batches, desc=\"Validating\", unit=\"batch\", leave=False) as pbar_val:\n",
    "            with torch.no_grad():\n",
    "                for images, knowledge_features, labels in val_loader:\n",
    "                    images, knowledge_features, labels = images.to(device), knowledge_features.to(device), labels.to(device)\n",
    "                    outputs = model(images, knowledge_features)\n",
    "                    loss = criterion(outputs, labels)\n",
    "                    val_running_loss += loss.item() * images.size(0)\n",
    "\n",
    "                    _, predicted = torch.max(outputs, 1)\n",
    "                    val_total += labels.size(0)\n",
    "                    val_correct += (predicted == labels).sum().item()\n",
    "\n",
    "                    val_preds.extend(predicted.cpu().numpy())\n",
    "                    val_labels.extend(labels.cpu().numpy())\n",
    "\n",
    "                    pbar_val.update(1)\n",
    "\n",
    "        # Calculate validation metrics\n",
    "        val_loss = val_running_loss / len(val_loader.dataset)\n",
    "        val_acc = val_correct / val_total\n",
    "        val_losses.append(val_loss)\n",
    "        val_accuracies.append(val_acc)\n",
    "\n",
    "        val_f1_weighted = f1_score(val_labels, val_preds, average='weighted')\n",
    "        val_f1_per_class = f1_score(val_labels, val_preds, average=None)\n",
    "\n",
    "        print(f\"Epoch {epoch + 1}/{num_epochs}: Val Loss: {val_loss:.4f}, Val Acc: {val_acc:.4f}, Val F1 (Weighted): {val_f1_weighted:.4f}\")\n",
    "\n",
    "        # Per-Class F1 Scores\n",
    "        if class_names:\n",
    "            print(\"\\nPer-Class F1 Scores:\")\n",
    "            for class_name, f1 in zip(class_names, val_f1_per_class):\n",
    "                print(f\"{class_name}: {f1:.4f}\")\n",
    "        else:\n",
    "            print(\"\\nPer-Class F1 Scores:\")\n",
    "            for i, f1 in enumerate(val_f1_per_class):\n",
    "                print(f\"Class {i}: {f1:.4f}\")\n",
    "\n",
    "    # Plot Training/Validation Loss and Accuracy\n",
    "    plot_metrics(train_losses, val_losses, train_accuracies, val_accuracies)\n",
    "\n",
    "# Plotting Function\n",
    "def plot_metrics(train_losses, val_losses, train_accuracies, val_accuracies):\n",
    "    epochs = range(1, len(train_losses) + 1)\n",
    "\n",
    "    # Loss Plot\n",
    "    plt.figure()\n",
    "    plt.plot(epochs, train_losses, label='Train Loss')\n",
    "    plt.plot(epochs, val_losses, label='Validation Loss')\n",
    "    plt.title('Train and Validation Loss')\n",
    "    plt.xlabel('Epochs')\n",
    "    plt.ylabel('Loss')\n",
    "    plt.legend()\n",
    "    plt.savefig('loss_curve.png')\n",
    "    plt.show()\n",
    "\n",
    "    # Accuracy Plot\n",
    "    plt.figure()\n",
    "    plt.plot(epochs, train_accuracies, label='Train Accuracy')\n",
    "    plt.plot(epochs, val_accuracies, label='Validation Accuracy')\n",
    "    plt.title('Train and Validation Accuracy')\n",
    "    plt.xlabel('Epochs')\n",
    "    plt.ylabel('Accuracy')\n",
    "    plt.legend()\n",
    "    plt.savefig('accuracy_curve.png')\n",
    "    plt.show()\n",
    "\n",
    "# Example Usage\n",
    "class_names = [\"Class A\", \"Class B\", \"Class C\"]  # Replace with your class names\n",
    "train_katana(model, combined_train_loader, val_loader, criterion, optimizer, num_epochs=10, class_names=class_names)\n",
    "\n",
    "# Save the final trained model\n",
    "torch.save(model.state_dict(), \"katana_final_model.pth\")\n",
    "\n",
    "\n"
   ]
  },
  {
   "cell_type": "code",
   "execution_count": 144,
   "id": "0cfb3102-0279-4750-a0f4-f7ef99d82746",
   "metadata": {},
   "outputs": [],
   "source": [
    "from sklearn.metrics import classification_report\n",
    "\n",
    "def test_katana(model, test_loader, criterion, class_names=None):\n",
    "    global test_labels, test_preds \n",
    "    model.load_state_dict(torch.load(\"katana_final_model.pth\"))\n",
    "    model.eval()\n",
    "    test_correct = 0\n",
    "    test_total = 0\n",
    "    test_preds = []\n",
    "    test_labels = []\n",
    "    test_loss = 0.0\n",
    "\n",
    "    with torch.no_grad():\n",
    "        for images, knowledge_features, labels in tqdm(test_loader, desc=\"Testing\"):\n",
    "            images, knowledge_features, labels = images.to(device), knowledge_features.to(device), labels.to(device)\n",
    "            outputs = model(images, knowledge_features)\n",
    "            loss = criterion(outputs, labels)\n",
    "            test_loss += loss.item() * images.size(0)\n",
    "            _, predicted = torch.max(outputs, 1)\n",
    "            test_total += labels.size(0)\n",
    "            test_correct += (predicted == labels).sum().item()\n",
    "\n",
    "            # Collect predictions and labels for F1 score\n",
    "            test_preds.extend(predicted.cpu().numpy())\n",
    "            test_labels.extend(labels.cpu().numpy())\n",
    "\n",
    "    # Calculate test metrics\n",
    "    test_f1_weighted = f1_score(test_labels, test_preds, average='weighted')\n",
    "    test_f1_per_class = f1_score(test_labels, test_preds, average=None)\n",
    "    test_loss /= len(test_loader.dataset)\n",
    "    test_acc = test_correct / test_total\n",
    "\n",
    "    # Print overall metrics\n",
    "    print(f\"Test Loss: {test_loss:.4f}, Test Accuracy: {test_acc:.4f}, Weighted F1 Score: {test_f1_weighted:.4f}\")\n",
    "\n",
    "    # Print per-class F1 scores\n",
    "    if class_names is not None:\n",
    "        print(\"\\nPer-Class F1 Scores:\")\n",
    "        for class_name, f1 in zip(class_names, test_f1_per_class):\n",
    "            print(f\"{class_name}: {f1:.4f}\")\n",
    "    else:\n",
    "        print(\"\\nPer-Class F1 Scores:\")\n",
    "        for i, f1 in enumerate(test_f1_per_class):\n",
    "            print(f\"Class {i}: {f1:.4f}\")\n",
    "\n",
    "    # Optional: Classification report\n",
    "    if class_names is not None:\n",
    "        print(\"\\nClassification Report:\")\n",
    "        print(classification_report(test_labels, test_preds, target_names=class_names))\n",
    "    else:\n",
    "        print(\"\\nClassification Report:\")\n",
    "        print(classification_report(test_labels, test_preds))\n"
   ]
  },
  {
   "cell_type": "code",
   "execution_count": 164,
   "id": "90328fb8-5afa-4fd5-8da2-12cef6ebebd4",
   "metadata": {},
   "outputs": [
    {
     "name": "stderr",
     "output_type": "stream",
     "text": [
      "C:\\Users\\liuha\\AppData\\Local\\Temp\\ipykernel_4376\\308201914.py:5: FutureWarning: You are using `torch.load` with `weights_only=False` (the current default value), which uses the default pickle module implicitly. It is possible to construct malicious pickle data which will execute arbitrary code during unpickling (See https://github.com/pytorch/pytorch/blob/main/SECURITY.md#untrusted-models for more details). In a future release, the default value for `weights_only` will be flipped to `True`. This limits the functions that could be executed during unpickling. Arbitrary objects will no longer be allowed to be loaded via this mode unless they are explicitly allowlisted by the user via `torch.serialization.add_safe_globals`. We recommend you start setting `weights_only=True` for any use case where you don't have full control of the loaded file. Please open an issue on GitHub for any issues related to this experimental feature.\n",
      "  model.load_state_dict(torch.load(\"katana_final_model.pth\"))\n",
      "Testing: 100%|█████████████████████████████████████████████████████████████████████████| 36/36 [00:35<00:00,  1.02it/s]"
     ]
    },
    {
     "name": "stdout",
     "output_type": "stream",
     "text": [
      "Test Loss: 0.1713, Test Accuracy: 0.9551, Weighted F1 Score: 0.9551\n",
      "\n",
      "Per-Class F1 Scores:\n",
      "Class 0: 0.9303\n",
      "Class 1: 0.9931\n",
      "Class 2: 0.9430\n",
      "\n",
      "Classification Report:\n",
      "              precision    recall  f1-score   support\n",
      "\n",
      "           0       0.94      0.92      0.93       734\n",
      "           1       0.99      0.99      0.99       728\n",
      "           2       0.93      0.96      0.94       788\n",
      "\n",
      "    accuracy                           0.96      2250\n",
      "   macro avg       0.96      0.96      0.96      2250\n",
      "weighted avg       0.96      0.96      0.96      2250\n",
      "\n"
     ]
    },
    {
     "name": "stderr",
     "output_type": "stream",
     "text": [
      "\n"
     ]
    }
   ],
   "source": [
    "test_katana(model, test_loader, criterion)"
   ]
  },
  {
   "cell_type": "code",
   "execution_count": 166,
   "id": "f3816f89-c951-4bbb-875c-9f7c8e5191e3",
   "metadata": {},
   "outputs": [
    {
     "data": {
      "text/plain": [
       "<sklearn.metrics._plot.confusion_matrix.ConfusionMatrixDisplay at 0x24656d61ac0>"
      ]
     },
     "execution_count": 166,
     "metadata": {},
     "output_type": "execute_result"
    },
    {
     "data": {
      "image/png": "[encoded data removed]",
      "text/plain": [
       "<Figure size 640x480 with 2 Axes>"
      ]
     },
     "metadata": {},
     "output_type": "display_data"
    }
   ],
   "source": [
    "from sklearn.metrics import ConfusionMatrixDisplay\n",
    "from sklearn.metrics import confusion_matrix\n",
    "\n",
    "cm = confusion_matrix(test_labels, test_preds)\n",
    "disp = ConfusionMatrixDisplay(confusion_matrix=cm, display_labels=[\"Class 0\", \"Class 1\", \"Class 2\"])\n",
    "disp.plot(cmap='Blues')\n"
   ]
  },
  {
   "cell_type": "code",
   "execution_count": null,
   "id": "63f51e99-361d-4a1b-b43d-599ebaee5c28",
   "metadata": {},
   "outputs": [],
   "source": []
  }
 ],
 "metadata": {
  "kernelspec": {
   "display_name": "Python 3 (ipykernel)",
   "language": "python",
   "name": "python3"
  },
  "language_info": {
   "codemirror_mode": {
    "name": "ipython",
    "version": 3
   },
   "file_extension": ".py",
   "mimetype": "text/x-python",
   "name": "python",
   "nbconvert_exporter": "python",
   "pygments_lexer": "ipython3",
   "version": "3.12.4"
  }
 },
 "nbformat": 4,
 "nbformat_minor": 5
}
